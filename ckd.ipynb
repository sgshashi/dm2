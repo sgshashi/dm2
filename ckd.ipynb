{
 "cells": [
  {
   "cell_type": "code",
   "execution_count": 1,
   "metadata": {},
   "outputs": [],
   "source": [
    "#importing libraries \n",
    "import pandas as pd \n",
    "import numpy as np\n",
    "import matplotlib.pyplot as plt \n",
    "import seaborn as sns\n",
    "from scipy import stats\n",
    "from sklearn.impute import SimpleImputer"
   ]
  },
  {
   "cell_type": "code",
   "execution_count": 2,
   "metadata": {},
   "outputs": [
    {
     "data": {
      "text/plain": [
       "age      object\n",
       "bp       object\n",
       "sg       object\n",
       "al       object\n",
       "su       object\n",
       "rbc      object\n",
       "pc       object\n",
       "pcc      object\n",
       "ba       object\n",
       "bgr      object\n",
       "bu       object\n",
       "sc       object\n",
       "sod      object\n",
       "pot      object\n",
       "hemo     object\n",
       "pcv      object\n",
       "wbcc     object\n",
       "rbcc     object\n",
       "htn      object\n",
       "dm       object\n",
       "cad      object\n",
       "appet    object\n",
       "pe       object\n",
       "ane      object\n",
       "class    object\n",
       "dtype: object"
      ]
     },
     "execution_count": 2,
     "metadata": {},
     "output_type": "execute_result"
    }
   ],
   "source": [
    "# import data set\n",
    "inputData = pd.read_csv(\"kidneyChronic.csv\")\n",
    "inputData.head()\n",
    "inputData.dtypes"
   ]
  },
  {
   "cell_type": "code",
   "execution_count": 3,
   "metadata": {},
   "outputs": [
    {
     "data": {
      "text/html": [
       "<div>\n",
       "<style scoped>\n",
       "    .dataframe tbody tr th:only-of-type {\n",
       "        vertical-align: middle;\n",
       "    }\n",
       "\n",
       "    .dataframe tbody tr th {\n",
       "        vertical-align: top;\n",
       "    }\n",
       "\n",
       "    .dataframe thead th {\n",
       "        text-align: right;\n",
       "    }\n",
       "</style>\n",
       "<table border=\"1\" class=\"dataframe\">\n",
       "  <thead>\n",
       "    <tr style=\"text-align: right;\">\n",
       "      <th></th>\n",
       "      <th>age</th>\n",
       "      <th>bp</th>\n",
       "      <th>sg</th>\n",
       "      <th>al</th>\n",
       "      <th>su</th>\n",
       "      <th>rbc</th>\n",
       "      <th>pc</th>\n",
       "      <th>pcc</th>\n",
       "      <th>ba</th>\n",
       "      <th>bgr</th>\n",
       "      <th>...</th>\n",
       "      <th>pcv</th>\n",
       "      <th>wbcc</th>\n",
       "      <th>rbcc</th>\n",
       "      <th>htn</th>\n",
       "      <th>dm</th>\n",
       "      <th>cad</th>\n",
       "      <th>appet</th>\n",
       "      <th>pe</th>\n",
       "      <th>ane</th>\n",
       "      <th>class</th>\n",
       "    </tr>\n",
       "  </thead>\n",
       "  <tbody>\n",
       "    <tr>\n",
       "      <th>0</th>\n",
       "      <td>48</td>\n",
       "      <td>80</td>\n",
       "      <td>1.02</td>\n",
       "      <td>1</td>\n",
       "      <td>0</td>\n",
       "      <td>?</td>\n",
       "      <td>normal</td>\n",
       "      <td>notpresent</td>\n",
       "      <td>notpresent</td>\n",
       "      <td>121</td>\n",
       "      <td>...</td>\n",
       "      <td>44</td>\n",
       "      <td>7800</td>\n",
       "      <td>5.2</td>\n",
       "      <td>yes</td>\n",
       "      <td>yes</td>\n",
       "      <td>no</td>\n",
       "      <td>good</td>\n",
       "      <td>no</td>\n",
       "      <td>no</td>\n",
       "      <td>ckd</td>\n",
       "    </tr>\n",
       "    <tr>\n",
       "      <th>1</th>\n",
       "      <td>7</td>\n",
       "      <td>50</td>\n",
       "      <td>1.02</td>\n",
       "      <td>4</td>\n",
       "      <td>0</td>\n",
       "      <td>?</td>\n",
       "      <td>normal</td>\n",
       "      <td>notpresent</td>\n",
       "      <td>notpresent</td>\n",
       "      <td>?</td>\n",
       "      <td>...</td>\n",
       "      <td>38</td>\n",
       "      <td>6000</td>\n",
       "      <td>?</td>\n",
       "      <td>no</td>\n",
       "      <td>no</td>\n",
       "      <td>no</td>\n",
       "      <td>good</td>\n",
       "      <td>no</td>\n",
       "      <td>no</td>\n",
       "      <td>ckd</td>\n",
       "    </tr>\n",
       "    <tr>\n",
       "      <th>2</th>\n",
       "      <td>62</td>\n",
       "      <td>80</td>\n",
       "      <td>1.01</td>\n",
       "      <td>2</td>\n",
       "      <td>3</td>\n",
       "      <td>normal</td>\n",
       "      <td>normal</td>\n",
       "      <td>notpresent</td>\n",
       "      <td>notpresent</td>\n",
       "      <td>423</td>\n",
       "      <td>...</td>\n",
       "      <td>31</td>\n",
       "      <td>7500</td>\n",
       "      <td>?</td>\n",
       "      <td>no</td>\n",
       "      <td>yes</td>\n",
       "      <td>no</td>\n",
       "      <td>poor</td>\n",
       "      <td>no</td>\n",
       "      <td>yes</td>\n",
       "      <td>ckd</td>\n",
       "    </tr>\n",
       "    <tr>\n",
       "      <th>3</th>\n",
       "      <td>48</td>\n",
       "      <td>70</td>\n",
       "      <td>1.005</td>\n",
       "      <td>4</td>\n",
       "      <td>0</td>\n",
       "      <td>normal</td>\n",
       "      <td>abnormal</td>\n",
       "      <td>present</td>\n",
       "      <td>notpresent</td>\n",
       "      <td>117</td>\n",
       "      <td>...</td>\n",
       "      <td>32</td>\n",
       "      <td>6700</td>\n",
       "      <td>3.9</td>\n",
       "      <td>yes</td>\n",
       "      <td>no</td>\n",
       "      <td>no</td>\n",
       "      <td>poor</td>\n",
       "      <td>yes</td>\n",
       "      <td>yes</td>\n",
       "      <td>ckd</td>\n",
       "    </tr>\n",
       "    <tr>\n",
       "      <th>4</th>\n",
       "      <td>51</td>\n",
       "      <td>80</td>\n",
       "      <td>1.01</td>\n",
       "      <td>2</td>\n",
       "      <td>0</td>\n",
       "      <td>normal</td>\n",
       "      <td>normal</td>\n",
       "      <td>notpresent</td>\n",
       "      <td>notpresent</td>\n",
       "      <td>106</td>\n",
       "      <td>...</td>\n",
       "      <td>35</td>\n",
       "      <td>7300</td>\n",
       "      <td>4.6</td>\n",
       "      <td>no</td>\n",
       "      <td>no</td>\n",
       "      <td>no</td>\n",
       "      <td>good</td>\n",
       "      <td>no</td>\n",
       "      <td>no</td>\n",
       "      <td>ckd</td>\n",
       "    </tr>\n",
       "  </tbody>\n",
       "</table>\n",
       "<p>5 rows × 25 columns</p>\n",
       "</div>"
      ],
      "text/plain": [
       "  age  bp     sg al su     rbc        pc         pcc          ba  bgr  ...  \\\n",
       "0  48  80   1.02  1  0       ?    normal  notpresent  notpresent  121  ...   \n",
       "1   7  50   1.02  4  0       ?    normal  notpresent  notpresent    ?  ...   \n",
       "2  62  80   1.01  2  3  normal    normal  notpresent  notpresent  423  ...   \n",
       "3  48  70  1.005  4  0  normal  abnormal     present  notpresent  117  ...   \n",
       "4  51  80   1.01  2  0  normal    normal  notpresent  notpresent  106  ...   \n",
       "\n",
       "  pcv  wbcc rbcc  htn   dm cad appet   pe  ane class  \n",
       "0  44  7800  5.2  yes  yes  no  good   no   no   ckd  \n",
       "1  38  6000    ?   no   no  no  good   no   no   ckd  \n",
       "2  31  7500    ?   no  yes  no  poor   no  yes   ckd  \n",
       "3  32  6700  3.9  yes   no  no  poor  yes  yes   ckd  \n",
       "4  35  7300  4.6   no   no  no  good   no   no   ckd  \n",
       "\n",
       "[5 rows x 25 columns]"
      ]
     },
     "execution_count": 3,
     "metadata": {},
     "output_type": "execute_result"
    }
   ],
   "source": [
    "# remove any leading or trailing special characters such as \\t \\n etc.\n",
    "for col in inputData.columns:\n",
    "    inputData[col] = inputData[col].str.strip()\n",
    "inputData.head()"
   ]
  },
  {
   "cell_type": "code",
   "execution_count": 4,
   "metadata": {},
   "outputs": [
    {
     "data": {
      "text/html": [
       "<div>\n",
       "<style scoped>\n",
       "    .dataframe tbody tr th:only-of-type {\n",
       "        vertical-align: middle;\n",
       "    }\n",
       "\n",
       "    .dataframe tbody tr th {\n",
       "        vertical-align: top;\n",
       "    }\n",
       "\n",
       "    .dataframe thead th {\n",
       "        text-align: right;\n",
       "    }\n",
       "</style>\n",
       "<table border=\"1\" class=\"dataframe\">\n",
       "  <thead>\n",
       "    <tr style=\"text-align: right;\">\n",
       "      <th></th>\n",
       "      <th>age</th>\n",
       "      <th>bp</th>\n",
       "      <th>sg</th>\n",
       "      <th>al</th>\n",
       "      <th>su</th>\n",
       "      <th>rbc</th>\n",
       "      <th>pc</th>\n",
       "      <th>pcc</th>\n",
       "      <th>ba</th>\n",
       "      <th>bgr</th>\n",
       "      <th>...</th>\n",
       "      <th>pcv</th>\n",
       "      <th>wbcc</th>\n",
       "      <th>rbcc</th>\n",
       "      <th>htn</th>\n",
       "      <th>dm</th>\n",
       "      <th>cad</th>\n",
       "      <th>appet</th>\n",
       "      <th>pe</th>\n",
       "      <th>ane</th>\n",
       "      <th>class</th>\n",
       "    </tr>\n",
       "  </thead>\n",
       "  <tbody>\n",
       "    <tr>\n",
       "      <th>0</th>\n",
       "      <td>48</td>\n",
       "      <td>80</td>\n",
       "      <td>1.02</td>\n",
       "      <td>1</td>\n",
       "      <td>0</td>\n",
       "      <td>NaN</td>\n",
       "      <td>normal</td>\n",
       "      <td>notpresent</td>\n",
       "      <td>notpresent</td>\n",
       "      <td>121</td>\n",
       "      <td>...</td>\n",
       "      <td>44</td>\n",
       "      <td>7800</td>\n",
       "      <td>5.2</td>\n",
       "      <td>yes</td>\n",
       "      <td>yes</td>\n",
       "      <td>no</td>\n",
       "      <td>good</td>\n",
       "      <td>no</td>\n",
       "      <td>no</td>\n",
       "      <td>ckd</td>\n",
       "    </tr>\n",
       "    <tr>\n",
       "      <th>1</th>\n",
       "      <td>7</td>\n",
       "      <td>50</td>\n",
       "      <td>1.02</td>\n",
       "      <td>4</td>\n",
       "      <td>0</td>\n",
       "      <td>NaN</td>\n",
       "      <td>normal</td>\n",
       "      <td>notpresent</td>\n",
       "      <td>notpresent</td>\n",
       "      <td>NaN</td>\n",
       "      <td>...</td>\n",
       "      <td>38</td>\n",
       "      <td>6000</td>\n",
       "      <td>NaN</td>\n",
       "      <td>no</td>\n",
       "      <td>no</td>\n",
       "      <td>no</td>\n",
       "      <td>good</td>\n",
       "      <td>no</td>\n",
       "      <td>no</td>\n",
       "      <td>ckd</td>\n",
       "    </tr>\n",
       "    <tr>\n",
       "      <th>2</th>\n",
       "      <td>62</td>\n",
       "      <td>80</td>\n",
       "      <td>1.01</td>\n",
       "      <td>2</td>\n",
       "      <td>3</td>\n",
       "      <td>normal</td>\n",
       "      <td>normal</td>\n",
       "      <td>notpresent</td>\n",
       "      <td>notpresent</td>\n",
       "      <td>423</td>\n",
       "      <td>...</td>\n",
       "      <td>31</td>\n",
       "      <td>7500</td>\n",
       "      <td>NaN</td>\n",
       "      <td>no</td>\n",
       "      <td>yes</td>\n",
       "      <td>no</td>\n",
       "      <td>poor</td>\n",
       "      <td>no</td>\n",
       "      <td>yes</td>\n",
       "      <td>ckd</td>\n",
       "    </tr>\n",
       "    <tr>\n",
       "      <th>3</th>\n",
       "      <td>48</td>\n",
       "      <td>70</td>\n",
       "      <td>1.005</td>\n",
       "      <td>4</td>\n",
       "      <td>0</td>\n",
       "      <td>normal</td>\n",
       "      <td>abnormal</td>\n",
       "      <td>present</td>\n",
       "      <td>notpresent</td>\n",
       "      <td>117</td>\n",
       "      <td>...</td>\n",
       "      <td>32</td>\n",
       "      <td>6700</td>\n",
       "      <td>3.9</td>\n",
       "      <td>yes</td>\n",
       "      <td>no</td>\n",
       "      <td>no</td>\n",
       "      <td>poor</td>\n",
       "      <td>yes</td>\n",
       "      <td>yes</td>\n",
       "      <td>ckd</td>\n",
       "    </tr>\n",
       "    <tr>\n",
       "      <th>4</th>\n",
       "      <td>51</td>\n",
       "      <td>80</td>\n",
       "      <td>1.01</td>\n",
       "      <td>2</td>\n",
       "      <td>0</td>\n",
       "      <td>normal</td>\n",
       "      <td>normal</td>\n",
       "      <td>notpresent</td>\n",
       "      <td>notpresent</td>\n",
       "      <td>106</td>\n",
       "      <td>...</td>\n",
       "      <td>35</td>\n",
       "      <td>7300</td>\n",
       "      <td>4.6</td>\n",
       "      <td>no</td>\n",
       "      <td>no</td>\n",
       "      <td>no</td>\n",
       "      <td>good</td>\n",
       "      <td>no</td>\n",
       "      <td>no</td>\n",
       "      <td>ckd</td>\n",
       "    </tr>\n",
       "  </tbody>\n",
       "</table>\n",
       "<p>5 rows × 25 columns</p>\n",
       "</div>"
      ],
      "text/plain": [
       "  age  bp     sg al su     rbc        pc         pcc          ba  bgr  ...  \\\n",
       "0  48  80   1.02  1  0     NaN    normal  notpresent  notpresent  121  ...   \n",
       "1   7  50   1.02  4  0     NaN    normal  notpresent  notpresent  NaN  ...   \n",
       "2  62  80   1.01  2  3  normal    normal  notpresent  notpresent  423  ...   \n",
       "3  48  70  1.005  4  0  normal  abnormal     present  notpresent  117  ...   \n",
       "4  51  80   1.01  2  0  normal    normal  notpresent  notpresent  106  ...   \n",
       "\n",
       "  pcv  wbcc rbcc  htn   dm cad appet   pe  ane class  \n",
       "0  44  7800  5.2  yes  yes  no  good   no   no   ckd  \n",
       "1  38  6000  NaN   no   no  no  good   no   no   ckd  \n",
       "2  31  7500  NaN   no  yes  no  poor   no  yes   ckd  \n",
       "3  32  6700  3.9  yes   no  no  poor  yes  yes   ckd  \n",
       "4  35  7300  4.6   no   no  no  good   no   no   ckd  \n",
       "\n",
       "[5 rows x 25 columns]"
      ]
     },
     "execution_count": 4,
     "metadata": {},
     "output_type": "execute_result"
    }
   ],
   "source": [
    "# Replace missing values with np.NaN for further processing of data frames\n",
    "for input, data_set in inputData.iterrows():        \n",
    "    for header in inputData:\n",
    "        if data_set[header] == '?':\n",
    "            data_set[header] = np.NaN\n",
    "\n",
    "inputData.head()"
   ]
  },
  {
   "cell_type": "code",
   "execution_count": 5,
   "metadata": {},
   "outputs": [
    {
     "name": "stdout",
     "output_type": "stream",
     "text": [
      "age        9\n",
      "bp        12\n",
      "sg        47\n",
      "al        46\n",
      "su        49\n",
      "rbc      152\n",
      "pc        65\n",
      "pcc        4\n",
      "ba         4\n",
      "bgr       44\n",
      "bu        19\n",
      "sc        17\n",
      "sod       87\n",
      "pot       88\n",
      "hemo      52\n",
      "pcv       71\n",
      "wbcc     106\n",
      "rbcc     131\n",
      "htn        2\n",
      "dm         2\n",
      "cad        2\n",
      "appet      1\n",
      "pe         1\n",
      "ane        1\n",
      "class      0\n",
      "dtype: int64\n"
     ]
    }
   ],
   "source": [
    "# for each attribute, calculate number of missing values\n",
    "miss_vals = inputData.isnull().sum()\n",
    "print(miss_vals)"
   ]
  },
  {
   "cell_type": "code",
   "execution_count": 6,
   "metadata": {},
   "outputs": [
    {
     "name": "stdout",
     "output_type": "stream",
     "text": [
      "age       2.25\n",
      "bp        3.00\n",
      "sg       11.75\n",
      "al       11.50\n",
      "su       12.25\n",
      "rbc      38.00\n",
      "pc       16.25\n",
      "pcc       1.00\n",
      "ba        1.00\n",
      "bgr      11.00\n",
      "bu        4.75\n",
      "sc        4.25\n",
      "sod      21.75\n",
      "pot      22.00\n",
      "hemo     13.00\n",
      "pcv      17.75\n",
      "wbcc     26.50\n",
      "rbcc     32.75\n",
      "htn       0.50\n",
      "dm        0.50\n",
      "cad       0.50\n",
      "appet     0.25\n",
      "pe        0.25\n",
      "ane       0.25\n",
      "class     0.00\n",
      "dtype: float64\n"
     ]
    }
   ],
   "source": [
    "# Caclulate missing value percetnatge for each attribute\n",
    "miss_vals_percentage = 100*inputData.isnull().sum()/len(inputData)\n",
    "print(miss_vals_percentage)"
   ]
  },
  {
   "cell_type": "code",
   "execution_count": 7,
   "metadata": {},
   "outputs": [],
   "source": [
    "# Make a table with the results\n",
    "miss_val_table = pd.concat([miss_vals, miss_vals_percentage], axis=1)"
   ]
  },
  {
   "cell_type": "code",
   "execution_count": 8,
   "metadata": {},
   "outputs": [
    {
     "data": {
      "text/html": [
       "<div>\n",
       "<style scoped>\n",
       "    .dataframe tbody tr th:only-of-type {\n",
       "        vertical-align: middle;\n",
       "    }\n",
       "\n",
       "    .dataframe tbody tr th {\n",
       "        vertical-align: top;\n",
       "    }\n",
       "\n",
       "    .dataframe thead th {\n",
       "        text-align: right;\n",
       "    }\n",
       "</style>\n",
       "<table border=\"1\" class=\"dataframe\">\n",
       "  <thead>\n",
       "    <tr style=\"text-align: right;\">\n",
       "      <th></th>\n",
       "      <th>age</th>\n",
       "      <th>bp</th>\n",
       "      <th>sg</th>\n",
       "      <th>al</th>\n",
       "      <th>su</th>\n",
       "      <th>rbc</th>\n",
       "      <th>pc</th>\n",
       "      <th>pcc</th>\n",
       "      <th>ba</th>\n",
       "      <th>bgr</th>\n",
       "      <th>...</th>\n",
       "      <th>pcv</th>\n",
       "      <th>wbcc</th>\n",
       "      <th>rbcc</th>\n",
       "      <th>htn</th>\n",
       "      <th>dm</th>\n",
       "      <th>cad</th>\n",
       "      <th>appet</th>\n",
       "      <th>pe</th>\n",
       "      <th>ane</th>\n",
       "      <th>class</th>\n",
       "    </tr>\n",
       "  </thead>\n",
       "  <tbody>\n",
       "    <tr>\n",
       "      <th>0</th>\n",
       "      <td>48</td>\n",
       "      <td>80</td>\n",
       "      <td>1.02</td>\n",
       "      <td>1</td>\n",
       "      <td>0</td>\n",
       "      <td>NaN</td>\n",
       "      <td>normal</td>\n",
       "      <td>notpresent</td>\n",
       "      <td>notpresent</td>\n",
       "      <td>121</td>\n",
       "      <td>...</td>\n",
       "      <td>44</td>\n",
       "      <td>7800</td>\n",
       "      <td>5.2</td>\n",
       "      <td>yes</td>\n",
       "      <td>yes</td>\n",
       "      <td>no</td>\n",
       "      <td>good</td>\n",
       "      <td>no</td>\n",
       "      <td>no</td>\n",
       "      <td>ckd</td>\n",
       "    </tr>\n",
       "    <tr>\n",
       "      <th>1</th>\n",
       "      <td>7</td>\n",
       "      <td>50</td>\n",
       "      <td>1.02</td>\n",
       "      <td>4</td>\n",
       "      <td>0</td>\n",
       "      <td>NaN</td>\n",
       "      <td>normal</td>\n",
       "      <td>notpresent</td>\n",
       "      <td>notpresent</td>\n",
       "      <td>NaN</td>\n",
       "      <td>...</td>\n",
       "      <td>38</td>\n",
       "      <td>6000</td>\n",
       "      <td>NaN</td>\n",
       "      <td>no</td>\n",
       "      <td>no</td>\n",
       "      <td>no</td>\n",
       "      <td>good</td>\n",
       "      <td>no</td>\n",
       "      <td>no</td>\n",
       "      <td>ckd</td>\n",
       "    </tr>\n",
       "    <tr>\n",
       "      <th>2</th>\n",
       "      <td>62</td>\n",
       "      <td>80</td>\n",
       "      <td>1.01</td>\n",
       "      <td>2</td>\n",
       "      <td>3</td>\n",
       "      <td>normal</td>\n",
       "      <td>normal</td>\n",
       "      <td>notpresent</td>\n",
       "      <td>notpresent</td>\n",
       "      <td>423</td>\n",
       "      <td>...</td>\n",
       "      <td>31</td>\n",
       "      <td>7500</td>\n",
       "      <td>NaN</td>\n",
       "      <td>no</td>\n",
       "      <td>yes</td>\n",
       "      <td>no</td>\n",
       "      <td>poor</td>\n",
       "      <td>no</td>\n",
       "      <td>yes</td>\n",
       "      <td>ckd</td>\n",
       "    </tr>\n",
       "    <tr>\n",
       "      <th>3</th>\n",
       "      <td>48</td>\n",
       "      <td>70</td>\n",
       "      <td>1.005</td>\n",
       "      <td>4</td>\n",
       "      <td>0</td>\n",
       "      <td>normal</td>\n",
       "      <td>abnormal</td>\n",
       "      <td>present</td>\n",
       "      <td>notpresent</td>\n",
       "      <td>117</td>\n",
       "      <td>...</td>\n",
       "      <td>32</td>\n",
       "      <td>6700</td>\n",
       "      <td>3.9</td>\n",
       "      <td>yes</td>\n",
       "      <td>no</td>\n",
       "      <td>no</td>\n",
       "      <td>poor</td>\n",
       "      <td>yes</td>\n",
       "      <td>yes</td>\n",
       "      <td>ckd</td>\n",
       "    </tr>\n",
       "    <tr>\n",
       "      <th>4</th>\n",
       "      <td>51</td>\n",
       "      <td>80</td>\n",
       "      <td>1.01</td>\n",
       "      <td>2</td>\n",
       "      <td>0</td>\n",
       "      <td>normal</td>\n",
       "      <td>normal</td>\n",
       "      <td>notpresent</td>\n",
       "      <td>notpresent</td>\n",
       "      <td>106</td>\n",
       "      <td>...</td>\n",
       "      <td>35</td>\n",
       "      <td>7300</td>\n",
       "      <td>4.6</td>\n",
       "      <td>no</td>\n",
       "      <td>no</td>\n",
       "      <td>no</td>\n",
       "      <td>good</td>\n",
       "      <td>no</td>\n",
       "      <td>no</td>\n",
       "      <td>ckd</td>\n",
       "    </tr>\n",
       "  </tbody>\n",
       "</table>\n",
       "<p>5 rows × 25 columns</p>\n",
       "</div>"
      ],
      "text/plain": [
       "  age  bp     sg al su     rbc        pc         pcc          ba  bgr  ...  \\\n",
       "0  48  80   1.02  1  0     NaN    normal  notpresent  notpresent  121  ...   \n",
       "1   7  50   1.02  4  0     NaN    normal  notpresent  notpresent  NaN  ...   \n",
       "2  62  80   1.01  2  3  normal    normal  notpresent  notpresent  423  ...   \n",
       "3  48  70  1.005  4  0  normal  abnormal     present  notpresent  117  ...   \n",
       "4  51  80   1.01  2  0  normal    normal  notpresent  notpresent  106  ...   \n",
       "\n",
       "  pcv  wbcc rbcc  htn   dm cad appet   pe  ane class  \n",
       "0  44  7800  5.2  yes  yes  no  good   no   no   ckd  \n",
       "1  38  6000  NaN   no   no  no  good   no   no   ckd  \n",
       "2  31  7500  NaN   no  yes  no  poor   no  yes   ckd  \n",
       "3  32  6700  3.9  yes   no  no  poor  yes  yes   ckd  \n",
       "4  35  7300  4.6   no   no  no  good   no   no   ckd  \n",
       "\n",
       "[5 rows x 25 columns]"
      ]
     },
     "execution_count": 8,
     "metadata": {},
     "output_type": "execute_result"
    }
   ],
   "source": [
    "# set threshold for % of missing values \n",
    "miss_values_threshold = 100.0\n",
    "\n",
    "# remove attributes whih have at least or more % of missing values than the threshold set\n",
    "for input, data_set in miss_val_table.iterrows():\n",
    "    if(miss_val_table.loc[input][1] > miss_values_threshold):\n",
    "        print(input,miss_val_table.loc[input][1])\n",
    "        del inputData[input]\n",
    "\n",
    "inputData.head()"
   ]
  },
  {
   "cell_type": "code",
   "execution_count": 9,
   "metadata": {},
   "outputs": [],
   "source": [
    "# Conver Nominal to intergers and Fill missing values\n",
    "#concert age from string to float\n",
    "inputData['age'] = inputData['age'].astype(np.float64)\n",
    "inputData['age_filled'] = inputData['age'].fillna(np.nanmedian(inputData['age']))\n",
    "\n",
    "#concert age from string to float\n",
    "inputData['bp'] = inputData['bp'].astype(np.float64)\n",
    "inputData['bp_filled'] = inputData['bp'].fillna(np.nanmedian(inputData['bp']))\n",
    "\n",
    "inputData['sg'] = inputData['sg'].astype(np.float64)\n",
    "inputData['sg_filled'] = inputData['sg'].fillna(np.nanmedian(inputData['sg']))\n",
    "\n",
    "inputData['al'] = inputData['al'].astype(np.float64)\n",
    "inputData['al_filled'] = inputData['al'].fillna(np.nanmedian(inputData['al']))\n",
    "\n",
    "inputData['su'] = inputData['su'].astype(np.float64)\n",
    "inputData['su_filled'] = inputData['su'].fillna(np.nanmedian(inputData['su']))\n",
    "\n",
    "inputData[['rbc_filled','pc_filled']] = inputData[['rbc','pc']].replace(to_replace={'abnormal':1,'normal':0})\n",
    "\n",
    "inputData[['pcc_filled','ba_filled']] = inputData[['pcc','ba']].replace(to_replace={'present':1,'notpresent':0})\n",
    "\n",
    "inputData['bgr'] = inputData['bgr'].astype(np.float64)\n",
    "inputData['bgr_filled'] = inputData['bgr'].fillna(np.nanmedian(inputData['bgr']))\n",
    "\n",
    "inputData['bu'] = inputData['bu'].astype(np.float64)\n",
    "inputData['bu_filled'] = inputData['bu'].fillna(np.nanmedian(inputData['bu']))\n",
    "\n",
    "inputData['sc'] = inputData['sc'].astype(np.float64)\n",
    "inputData['sc_filled'] = inputData['sc'].fillna(np.nanmedian(inputData['sc']))\n",
    "\n",
    "inputData['sod'] = inputData['sod'].astype(np.float64)\n",
    "inputData['sod_filled'] = inputData['sod'].fillna(np.nanmedian(inputData['sod']))\n",
    "\n",
    "inputData['pot'] = inputData['pot'].astype(np.float64)\n",
    "inputData['pot_filled'] = inputData['pot'].fillna(np.nanmedian(inputData['pot']))\n",
    "\n",
    "inputData['hemo'] = inputData['hemo'].astype(np.float64)\n",
    "inputData['hemo_filled'] = inputData['hemo'].fillna(np.nanmedian(inputData['hemo']))\n",
    "\n",
    "inputData['pcv'] = inputData['pcv'].astype(np.float64)\n",
    "inputData['pcv_filled'] = inputData['pcv'].fillna(np.nanmedian(inputData['pcv']))\n",
    "\n",
    "inputData['wbcc'] = inputData['wbcc'].astype(np.float64)\n",
    "inputData['wbcc_filled'] = inputData['wbcc'].fillna(np.nanmedian(inputData['wbcc']))\n",
    "\n",
    "inputData['rbcc'] = inputData['rbcc'].astype(np.float64)\n",
    "inputData['rbcc_filled'] = inputData['rbcc'].fillna(np.nanmedian(inputData['rbcc']))\n",
    "\n",
    "inputData[['htn_filled','dm_filled','cad_filled','pe_filled','ane_filled']] = inputData[['htn','dm','cad','pe','ane']].replace(to_replace={'yes':1,'no':0})\n",
    "inputData[['appet_filled']] = inputData[['appet']].replace(to_replace={'good':1,'poor':0,'no':np.nan})\n",
    "inputData['class_filled'] = inputData['class'].replace(to_replace={'ckd':1.0,'ckd\\t':1.0,'notckd':0.0,'no':0.0})\n"
   ]
  },
  {
   "cell_type": "code",
   "execution_count": 10,
   "metadata": {},
   "outputs": [
    {
     "name": "stdout",
     "output_type": "stream",
     "text": [
      "age_filled        0\n",
      "bp_filled         0\n",
      "sg_filled         0\n",
      "al_filled         0\n",
      "su_filled         0\n",
      "rbc_filled      152\n",
      "pc_filled        65\n",
      "pcc_filled        4\n",
      "ba_filled         4\n",
      "bgr_filled        0\n",
      "bu_filled         0\n",
      "sc_filled         0\n",
      "sod_filled        0\n",
      "pot_filled        0\n",
      "hemo_filled       0\n",
      "pcv_filled        0\n",
      "wbcc_filled       0\n",
      "rbcc_filled       0\n",
      "htn_filled        2\n",
      "dm_filled         2\n",
      "cad_filled        2\n",
      "pe_filled         1\n",
      "ane_filled        1\n",
      "appet_filled      1\n",
      "dtype: int64\n"
     ]
    }
   ],
   "source": [
    "miss_vals = inputData.isnull().sum()\n",
    "print(miss_vals[25:-1])"
   ]
  },
  {
   "cell_type": "code",
   "execution_count": 11,
   "metadata": {},
   "outputs": [],
   "source": [
    "#plt.plot(inputData[\"rbc_filled\"])\n",
    "#plt.show()\n",
    "#print(inputData[\"rbc_filled\"])\n",
    "inputData[\"rbc_filled\"] = inputData[\"rbc_filled\"].fillna(-1)\n",
    "inputData[\"pc_filled\"] = inputData[\"pc_filled\"].fillna(-1)"
   ]
  },
  {
   "cell_type": "code",
   "execution_count": 12,
   "metadata": {},
   "outputs": [],
   "source": [
    "inputData[\"pcc_filled\"]=inputData[\"pcc_filled\"].fillna(-1)\n",
    "inputData[\"ba_filled\"] = inputData[\"ba_filled\"].fillna(-1)"
   ]
  },
  {
   "cell_type": "code",
   "execution_count": 13,
   "metadata": {},
   "outputs": [],
   "source": [
    "inputData[\"htn_filled\"]=inputData[\"htn_filled\"].fillna(-1)\n",
    "inputData[\"dm_filled\"]=inputData[\"dm_filled\"].fillna(-1)\n",
    "inputData[\"cad_filled\"]=inputData[\"cad_filled\"].fillna(-1)\n",
    "inputData[\"pe_filled\"]=inputData[\"pe_filled\"].fillna(-1)\n",
    "inputData[\"ane_filled\"]=inputData[\"ane_filled\"].fillna(-1)\n",
    "inputData[\"appet_filled\"]=inputData[\"appet_filled\"].fillna(-1)"
   ]
  },
  {
   "cell_type": "code",
   "execution_count": 14,
   "metadata": {},
   "outputs": [
    {
     "name": "stdout",
     "output_type": "stream",
     "text": [
      "(400, 25)\n"
     ]
    },
    {
     "data": {
      "text/plain": [
       "age_filled      float64\n",
       "bp_filled       float64\n",
       "sg_filled       float64\n",
       "al_filled       float64\n",
       "su_filled       float64\n",
       "rbc_filled      float64\n",
       "pc_filled       float64\n",
       "pcc_filled      float64\n",
       "ba_filled       float64\n",
       "bgr_filled      float64\n",
       "bu_filled       float64\n",
       "sc_filled       float64\n",
       "sod_filled      float64\n",
       "pot_filled      float64\n",
       "hemo_filled     float64\n",
       "pcv_filled      float64\n",
       "wbcc_filled     float64\n",
       "rbcc_filled     float64\n",
       "htn_filled      float64\n",
       "dm_filled       float64\n",
       "cad_filled      float64\n",
       "pe_filled       float64\n",
       "ane_filled      float64\n",
       "appet_filled      int64\n",
       "class_filled     object\n",
       "dtype: object"
      ]
     },
     "execution_count": 14,
     "metadata": {},
     "output_type": "execute_result"
    }
   ],
   "source": [
    "# copy curated data into a separate data frame\n",
    "col = inputData.columns\n",
    "curatedInput = inputData[col[25:]]        \n",
    "    \n",
    "miss_vals = curatedInput.isnull().sum()\n",
    "\n",
    "#print(miss_vals)\n",
    "print(curatedInput.shape)\n",
    "#print(curatedInput)\n",
    "curatedInput.to_csv('tmp_ci.csv')\n",
    "curatedInput.dtypes"
   ]
  },
  {
   "cell_type": "code",
   "execution_count": 15,
   "metadata": {},
   "outputs": [
    {
     "data": {
      "text/plain": [
       "age_filled      int32\n",
       "bp_filled       int32\n",
       "sg_filled       int32\n",
       "al_filled       int32\n",
       "su_filled       int32\n",
       "rbc_filled      int32\n",
       "pc_filled       int32\n",
       "pcc_filled      int32\n",
       "ba_filled       int32\n",
       "bgr_filled      int32\n",
       "bu_filled       int32\n",
       "sc_filled       int32\n",
       "sod_filled      int32\n",
       "pot_filled      int32\n",
       "hemo_filled     int32\n",
       "pcv_filled      int32\n",
       "wbcc_filled     int32\n",
       "rbcc_filled     int32\n",
       "htn_filled      int32\n",
       "dm_filled       int32\n",
       "cad_filled      int32\n",
       "pe_filled       int32\n",
       "ane_filled      int32\n",
       "appet_filled    int32\n",
       "class_filled    int32\n",
       "dtype: object"
      ]
     },
     "execution_count": 15,
     "metadata": {},
     "output_type": "execute_result"
    }
   ],
   "source": [
    "# convert all DataFrame columns to the int64 dtype\n",
    "curatedInput = curatedInput.astype(int)\n",
    "curatedInput.dtypes"
   ]
  },
  {
   "cell_type": "code",
   "execution_count": 16,
   "metadata": {},
   "outputs": [
    {
     "data": {
      "text/plain": [
       "(array([ 6.,  4.,  6.,  5.,  9., 11., 13., 26., 16., 28., 46., 25., 54.,\n",
       "        45., 37., 38., 21.,  7.,  2.,  1.]),\n",
       " array([ 2. ,  6.4, 10.8, 15.2, 19.6, 24. , 28.4, 32.8, 37.2, 41.6, 46. ,\n",
       "        50.4, 54.8, 59.2, 63.6, 68. , 72.4, 76.8, 81.2, 85.6, 90. ]),\n",
       " <a list of 20 Patch objects>)"
      ]
     },
     "execution_count": 16,
     "metadata": {},
     "output_type": "execute_result"
    },
    {
     "data": {
      "image/png": "[encoded data removed]",
      "text/plain": [
       "<Figure size 432x288 with 1 Axes>"
      ]
     },
     "metadata": {
      "needs_background": "light"
     },
     "output_type": "display_data"
    }
   ],
   "source": [
    "plt.hist(curatedInput[\"age_filled\"],bins=20)"
   ]
  },
  {
   "cell_type": "code",
   "execution_count": 17,
   "metadata": {},
   "outputs": [],
   "source": [
    "#sns.boxplot(x=\"type\", y=\"value\", data=curatedInput, whis=3.0);"
   ]
  },
  {
   "cell_type": "code",
   "execution_count": 18,
   "metadata": {},
   "outputs": [
    {
     "data": {
      "text/plain": [
       "{'whiskers': [<matplotlib.lines.Line2D at 0xbc24d30>,\n",
       "  <matplotlib.lines.Line2D at 0xbc2f390>],\n",
       " 'caps': [<matplotlib.lines.Line2D at 0xbc2f6d8>,\n",
       "  <matplotlib.lines.Line2D at 0xbc2fa20>],\n",
       " 'boxes': [<matplotlib.lines.Line2D at 0xbbdaf98>],\n",
       " 'medians': [<matplotlib.lines.Line2D at 0xbc2fd68>],\n",
       " 'fliers': [<matplotlib.lines.Line2D at 0xbc2fe48>],\n",
       " 'means': []}"
      ]
     },
     "execution_count": 18,
     "metadata": {},
     "output_type": "execute_result"
    },
    {
     "data": {
      "image/png": "[encoded data removed]",
      "text/plain": [
       "<Figure size 432x288 with 1 Axes>"
      ]
     },
     "metadata": {
      "needs_background": "light"
     },
     "output_type": "display_data"
    }
   ],
   "source": [
    "plt.boxplot(curatedInput['bp_filled'])"
   ]
  },
  {
   "cell_type": "code",
   "execution_count": 19,
   "metadata": {},
   "outputs": [
    {
     "data": {
      "text/plain": [
       "{'whiskers': [<matplotlib.lines.Line2D at 0xbc87dd8>,\n",
       "  <matplotlib.lines.Line2D at 0xbc87fd0>],\n",
       " 'caps': [<matplotlib.lines.Line2D at 0xbc93710>,\n",
       "  <matplotlib.lines.Line2D at 0xbc93a58>],\n",
       " 'boxes': [<matplotlib.lines.Line2D at 0xbc67320>],\n",
       " 'medians': [<matplotlib.lines.Line2D at 0xbc93da0>],\n",
       " 'fliers': [<matplotlib.lines.Line2D at 0xbc93cf8>],\n",
       " 'means': []}"
      ]
     },
     "execution_count": 19,
     "metadata": {},
     "output_type": "execute_result"
    },
    {
     "data": {
      "image/png": "[encoded data removed]",
      "text/plain": [
       "<Figure size 432x288 with 1 Axes>"
      ]
     },
     "metadata": {
      "needs_background": "light"
     },
     "output_type": "display_data"
    }
   ],
   "source": [
    "plt.boxplot(curatedInput['age_filled'])"
   ]
  },
  {
   "cell_type": "code",
   "execution_count": 20,
   "metadata": {},
   "outputs": [],
   "source": [
    "# correlated various attributes with class\n",
    "corr_input = curatedInput.corr()"
   ]
  },
  {
   "cell_type": "code",
   "execution_count": 21,
   "metadata": {},
   "outputs": [
    {
     "data": {
      "image/png": "[encoded data removed]",
      "text/plain": [
       "<Figure size 792x648 with 2 Axes>"
      ]
     },
     "metadata": {
      "needs_background": "light"
     },
     "output_type": "display_data"
    }
   ],
   "source": [
    "# Generate a mask for the upper triangle\n",
    "mask = np.zeros_like(corr_input, dtype=np.bool)\n",
    "mask[np.triu_indices_from(mask)] = True\n",
    "\n",
    "# Set up the matplotlib figure\n",
    "f, ax = plt.subplots(figsize=(11, 9))\n",
    "\n",
    "# Generate a custom diverging colormap\n",
    "cmap = sns.diverging_palette(220, 10, as_cmap=True)\n",
    "\n",
    "# Draw the heatmap with the mask and correct aspect ratio\n",
    "sns.heatmap(corr_input, mask=mask, cmap=cmap, vmax=.3, center=0,\n",
    "            square=True, linewidths=.5, cbar_kws={\"shrink\": .5})\n",
    "plt.title('Correlations between different predictors')\n",
    "plt.show()"
   ]
  },
  {
   "cell_type": "code",
   "execution_count": 69,
   "metadata": {},
   "outputs": [
    {
     "name": "stdout",
     "output_type": "stream",
     "text": [
      "(240, 24)\n",
      "(160, 24)\n"
     ]
    }
   ],
   "source": [
    "from sklearn.model_selection import train_test_split\n",
    "\n",
    "x_train, x_test, y_train, y_test = train_test_split(curatedInput.iloc[:,:-1], curatedInput['class_filled'], \n",
    "                                                    test_size = 0.40, random_state=44,\n",
    "                                                   stratify= curatedInput['class_filled'] )\n",
    "print(x_train.shape)\n",
    "print(x_test.shape)"
   ]
  },
  {
   "cell_type": "code",
   "execution_count": 70,
   "metadata": {},
   "outputs": [
    {
     "data": {
      "text/plain": [
       "pandas.core.series.Series"
      ]
     },
     "execution_count": 70,
     "metadata": {},
     "output_type": "execute_result"
    }
   ],
   "source": [
    "from sklearn.tree import DecisionTreeClassifier\n",
    "\n",
    "dc = DecisionTreeClassifier(min_samples_leaf=0.1, random_state=42, criterion=\"entropy\")\n",
    "type(x_train)\n",
    "type(y_train)"
   ]
  },
  {
   "cell_type": "code",
   "execution_count": 71,
   "metadata": {},
   "outputs": [],
   "source": [
    "classifier = dc.fit(x_train,y_train)"
   ]
  },
  {
   "cell_type": "code",
   "execution_count": 72,
   "metadata": {},
   "outputs": [],
   "source": [
    "from sklearn.linear_model import LogisticRegression\n",
    "#model = LogisticRegression()"
   ]
  },
  {
   "cell_type": "code",
   "execution_count": 73,
   "metadata": {},
   "outputs": [],
   "source": [
    "#model.fit(x_train, y_train)"
   ]
  },
  {
   "cell_type": "code",
   "execution_count": 74,
   "metadata": {},
   "outputs": [
    {
     "data": {
      "text/plain": [
       "array([1, 1, 1, 0, 1, 0, 0, 1, 0, 1, 0, 1, 0, 1, 1, 0, 0, 1, 1, 1, 0, 1,\n",
       "       0, 0, 1, 0, 1, 1, 1, 1, 1, 0, 1, 1, 0, 0, 1, 1, 1, 1, 1, 1, 0, 0,\n",
       "       1, 1, 0, 1, 1, 1, 1, 1, 1, 1, 0, 0, 0, 0, 0, 0, 1, 0, 1, 0, 0, 1,\n",
       "       0, 1, 1, 1, 1, 0, 0, 1, 1, 1, 0, 1, 0, 0, 1, 1, 0, 0, 1, 1, 1, 0,\n",
       "       0, 0, 0, 0, 1, 0, 0, 1, 1, 1, 0, 1, 1, 0, 0, 1, 1, 0, 1, 1, 1, 0,\n",
       "       0, 0, 1, 1, 0, 0, 1, 1, 1, 0, 1, 1, 1, 1, 1, 0, 0, 0, 0, 1, 0, 1,\n",
       "       1, 0, 1, 1, 1, 1, 0, 1, 1, 1, 0, 1, 1, 1, 1, 0, 1, 1, 0, 0, 1, 0,\n",
       "       0, 1, 1, 0, 0, 0])"
      ]
     },
     "execution_count": 74,
     "metadata": {},
     "output_type": "execute_result"
    }
   ],
   "source": [
    "Y_pred=dc.predict(x_test)\n",
    "Y_pred"
   ]
  },
  {
   "cell_type": "code",
   "execution_count": 75,
   "metadata": {},
   "outputs": [],
   "source": [
    "#from sklearn.metrics import classification_report\n",
    "#classification_report(y_test,Y_pred)"
   ]
  },
  {
   "cell_type": "code",
   "execution_count": 76,
   "metadata": {},
   "outputs": [],
   "source": [
    "#print(classification_report(y_test,Y_pred))"
   ]
  },
  {
   "cell_type": "code",
   "execution_count": 77,
   "metadata": {},
   "outputs": [],
   "source": [
    "#from sklearn.metrics import confusion_matrix\n",
    "#confusion_matrix(y_test,Y_pred)"
   ]
  },
  {
   "cell_type": "code",
   "execution_count": 78,
   "metadata": {},
   "outputs": [
    {
     "data": {
      "text/plain": [
       "0.925"
      ]
     },
     "execution_count": 78,
     "metadata": {},
     "output_type": "execute_result"
    }
   ],
   "source": [
    "from sklearn.metrics import accuracy_score\n",
    "accuracy_score(y_test,Y_pred)"
   ]
  },
  {
   "cell_type": "code",
   "execution_count": 79,
   "metadata": {},
   "outputs": [
    {
     "name": "stdout",
     "output_type": "stream",
     "text": [
      "accuracy     0.95625\n"
     ]
    }
   ],
   "source": [
    "from sklearn.naive_bayes import GaussianNB\n",
    "nb = GaussianNB()\n",
    "nb.fit(x_train,y_train)\n",
    "y_pred = nb.predict(x_test)\n",
    "print(\"accuracy    \",accuracy_score(y_test,y_pred))"
   ]
  },
  {
   "cell_type": "code",
   "execution_count": null,
   "metadata": {},
   "outputs": [],
   "source": []
  },
  {
   "cell_type": "code",
   "execution_count": null,
   "metadata": {},
   "outputs": [],
   "source": []
  }
 ],
 "metadata": {
  "kernelspec": {
   "display_name": "Python 3",
   "language": "python",
   "name": "python3"
  },
  "language_info": {
   "codemirror_mode": {
    "name": "ipython",
    "version": 3
   },
   "file_extension": ".py",
   "mimetype": "text/x-python",
   "name": "python",
   "nbconvert_exporter": "python",
   "pygments_lexer": "ipython3",
   "version": "3.7.3"
  }
 },
 "nbformat": 4,
 "nbformat_minor": 2
}
